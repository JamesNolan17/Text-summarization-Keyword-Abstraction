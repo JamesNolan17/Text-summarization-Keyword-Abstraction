{
 "cells": [
  {
   "cell_type": "markdown",
   "id": "robust-session",
   "metadata": {},
   "source": [
    "# T5 Text Summarizer\n",
    "\n",
    "This Jupyter Notebook demonstrates how Google's T5 pre-train model is used to generate summary.\n",
    "\n",
    "Please ensure both Python packages below have been 'pip' installed.\n",
    "\n",
    "```pip install torch```\n",
    "\n",
    "```pip install transformers```\n",
    "\n",
    "https://github.com/louisteo9/t5-text-summarizer"
   ]
  },
  {
   "cell_type": "markdown",
   "id": "broad-hours",
   "metadata": {},
   "source": [
    "## Import Libraries / Modules"
   ]
  },
  {
   "cell_type": "code",
   "execution_count": 1,
   "id": "domestic-shareware",
   "metadata": {},
   "outputs": [],
   "source": [
    "import torch\n",
    "from transformers import AutoTokenizer, AutoModelForSeq2SeqLM"
   ]
  },
  {
   "cell_type": "markdown",
   "id": "bound-cargo",
   "metadata": {},
   "source": [
    "## Load Model and Tokenizer"
   ]
  },
  {
   "cell_type": "code",
   "execution_count": 2,
   "id": "decreased-current",
   "metadata": {},
   "outputs": [
    {
     "data": {
      "application/vnd.jupyter.widget-view+json": {
       "model_id": "de76b77f90544a28810015851c53dcd1",
       "version_major": 2,
       "version_minor": 0
      },
      "text/plain": [
       "Downloading:   0%|          | 0.00/850M [00:00<?, ?B/s]"
      ]
     },
     "metadata": {},
     "output_type": "display_data"
    },
    {
     "name": "stderr",
     "output_type": "stream",
     "text": [
      "E:\\Anaconda3\\lib\\site-packages\\transformers\\models\\t5\\tokenization_t5_fast.py:156: FutureWarning: This tokenizer was incorrectly instantiated with a model max length of 512 which will be corrected in Transformers v5.\n",
      "For now, this behavior is kept to avoid breaking backwards compatibility when padding/encoding with `truncation is True`.\n",
      "- Be aware that you SHOULD NOT rely on t5-base automatically truncating your input to 512 when padding/encoding.\n",
      "- If you want to encode/pad to sequences longer than 512 you can either instantiate this tokenizer with `model_max_length` or pass `max_length` when encoding/padding.\n",
      "- To avoid this warning, please instantiate this tokenizer with `model_max_length` set to your preferred value.\n",
      "  warnings.warn(\n"
     ]
    }
   ],
   "source": [
    "model = AutoModelForSeq2SeqLM.from_pretrained('t5-base')\n",
    "\n",
    "tokenizer = AutoTokenizer.from_pretrained('t5-base')"
   ]
  },
  {
   "cell_type": "markdown",
   "id": "brave-context",
   "metadata": {},
   "source": [
    "## Input Text\n",
    "\n",
    "Load CNN [news](https://edition.cnn.com/2021/04/21/media/netflix-earnings-analysis/index.html) in text form."
   ]
  },
  {
   "cell_type": "code",
   "execution_count": 3,
   "id": "coated-electronics",
   "metadata": {},
   "outputs": [],
   "source": [
    "text = \"\"\"\n",
    "New York (CNN Business)Netflix is synonymous with streaming, but its competitors have a distinct advantage that threatens the streaming leader's position at the top.\n",
    "Disney has Disney+, but it also has theme parks, plush Baby Yoda dolls, blockbuster Marvel movies and ESPN. Comcast (CMCSA), Amazon (AMZN), ViacomCBS (VIACA), CNN's parent company WarnerMedia and Apple (AAPL) all have their own streaming services, too, but they also have other forms of revenue.\n",
    "As for Netflix (NFLX), its revenue driver is based entirely on building its subscriber base. It's worked out well for the company - so far. But it's starting to look like the king of streaming will soon need something other than new subscribers to keep growing.\n",
    "The streaming service reported Tuesday it now has 208 million subscribers globally, after adding 4 million subscribers in the first quarter of 2021. But that number missed expectations and the forecasts for its next quarter were also pretty weak.\n",
    "That was a big whiff for Netflix - a company coming off a massive year of growth thanks in large part to the pandemic driving people indoors - and Wall Street's reaction has not been great.\n",
    "The company's stock dropped as much as 8% on Wednesday, leading some to wonder what the future of the streamer looks like if competition continues to gain strength, people start heading outdoors and if, most importantly, its growth slows.\n",
    "\"If you hit a wall with [subscriptions] then you pretty much don't have a super growth strategy anymore in your most developed markets,\" Michael Nathanson, a media analyst and founding partner at MoffettNathanson, told CNN Business. \"What can they do to take even more revenue out of the market, above and beyond streaming revenues?\"\n",
    "Or put another way, the company's lackluster user growth last quarter is a signal that it wouldn't hurt if Netflix - a company that's lived and died with its subscriber numbers - started thinking about other ways to make money.\n",
    "An ad-supported Netflix? Not so fast\n",
    "There are ways for Netflix to make money other than raising prices or adding subscribers. The most obvious: selling advertising.\n",
    "Netflix could have 30-second commercials on their programming or get sponsors for their biggest series and films. TV has worked that way forever, why not Netflix?\n",
    "That's probably not going to happen, given that CEO Reed Hastings has been vocal about the unlikelihood of an ad-supported Netflix service. His reasoning: It doesn't make business sense.\n",
    "\"It's a judgment call... It's a belief we can build a better business, a more valuable business [without advertising],\" Hastings told Variety in September. \"You know, advertising looks easy until you get in it. Then you realize you have to rip that revenue away from other places because the total ad market isn't growing, and in fact right now it's shrinking. It's hand-to-hand combat to get people to spend less on, you know, ABC and to spend more on Netflix.\"\n",
    "Hastings added that \"there's much more growth in the consumer market than there is in advertising, which is pretty flat.\"\n",
    "He's also expressed doubts about Netflix getting into live sports or news, which could boost the service's allure to subscribers, so that's likely out, too, at least for now.\n",
    "So if Netflix is looking for other forms of near-term revenue to help support its hefty content budget ($17 billion in 2021 alone) then what can it do? There is one place that could be a revenue driver for Netflix, but if you're borrowing your mother's account you won't like it.\n",
    "Netflix could crack down on password sharing - a move that the company has been considering lately.\n",
    "\"Basically you're going to clean up some subscribers that are free riders,\" Nathanson said. \"That's going to help them get to a higher level of penetration, definitely, but not in long-term.\"\n",
    "Lackluster growth is still growth\n",
    "Missing projections is never good, but it's hardly the end of the world for Netflix. The company remains the market leader and most competitors are still far from taking the company on. And while Netflix's first-quarter subscriber growth wasn't great, and its forecasts for the next quarter alarmed investors, it was just one quarter.\n",
    "Netflix has had subscriber misses before and it's still the most dominant name in all of streaming, and even lackluster growth is still growth. It's not as if people are canceling Netflix in droves.\n",
    "Asked about Netflix's \"second act\" during the company's post-earnings call on Tuesday, Hastings again placed the company's focus on pleasing subscribers.\n",
    "\"We do want to expand. We used to do that thing shipping DVDs, and luckily we didn't get stuck with that. We didn't define that as the main thing. We define entertainment as the main thing,\" Hastings said.\n",
    "He added that he doesn't think Netflix will have a second act in the way Amazon has had with Amazon shopping and Amazon Web Services. Rather, Netflix will continue to improve and grow on what it already does best.\n",
    "\"I'll bet we end with one hopefully gigantic, hopefully defensible profit pool, and continue to improve the service for our members,\" he said. \"I wouldn't look for any large secondary pool of profits. There will be a bunch of supporting pools, like consumer products, that can be both profitable and can support the title brands.\n",
    "\"\"\""
   ]
  },
  {
   "cell_type": "markdown",
   "id": "fifty-contact",
   "metadata": {},
   "source": [
    "## Tokenize Text"
   ]
  },
  {
   "cell_type": "code",
   "execution_count": 4,
   "id": "entitled-indication",
   "metadata": {},
   "outputs": [],
   "source": [
    "tokens_input = tokenizer.encode(\"summarize: \"+text, return_tensors='pt', \n",
    "                                max_length=tokenizer.model_max_length, \n",
    "                                truncation=True)"
   ]
  },
  {
   "cell_type": "markdown",
   "id": "irish-entity",
   "metadata": {},
   "source": [
    "## Generate Summary"
   ]
  },
  {
   "cell_type": "code",
   "execution_count": 5,
   "id": "resident-dream",
   "metadata": {},
   "outputs": [],
   "source": [
    "summary_ids = model.generate(tokens_input, min_length=80,\n",
    "                             max_length=150,\n",
    "                             length_penalty=20, \n",
    "                             num_beams=2)\n",
    "\n",
    "summary = tokenizer.decode(summary_ids[0], skip_special_tokens=True)"
   ]
  },
  {
   "cell_type": "code",
   "execution_count": 6,
   "id": "comic-tribe",
   "metadata": {},
   "outputs": [
    {
     "name": "stdout",
     "output_type": "stream",
     "text": [
      "Netflix (NFLX) reported Tuesday it now has 208 million subscribers globally. that number missed expectations and the forecasts for its next quarter were also pretty weak. the streaming service's stock dropped as much as 8% on Wednesday, leading some to wonder what the future of the streamer looks like. if competition continues to gain strength, people start heading outdoors and if, most importantly, its growth slows, it wouldn't hurt if Netflix started thinking about other ways to make money - like selling ads.\n"
     ]
    }
   ],
   "source": [
    "print(summary)"
   ]
  },
  {
   "cell_type": "code",
   "execution_count": 7,
   "id": "lasting-microphone",
   "metadata": {},
   "outputs": [
    {
     "name": "stderr",
     "output_type": "stream",
     "text": [
      "Token indices sequence length is longer than the specified maximum sequence length for this model (1237 > 512). Running this sequence through the model will result in indexing errors\n"
     ]
    },
    {
     "data": {
      "text/plain": [
       "1237"
      ]
     },
     "execution_count": 7,
     "metadata": {},
     "output_type": "execute_result"
    }
   ],
   "source": [
    "# number of tokens generated from the text using T5 Tokenizer\n",
    "len(tokenizer(text)['input_ids'])"
   ]
  },
  {
   "cell_type": "code",
   "execution_count": 8,
   "id": "soviet-theta",
   "metadata": {},
   "outputs": [
    {
     "data": {
      "text/plain": [
       "512"
      ]
     },
     "execution_count": 8,
     "metadata": {},
     "output_type": "execute_result"
    }
   ],
   "source": [
    "# model maximum acceptable token inputs length\n",
    "tokenizer.model_max_length"
   ]
  },
  {
   "cell_type": "markdown",
   "id": "particular-mercury",
   "metadata": {},
   "source": [
    "# BERT Extractive Summary"
   ]
  },
  {
   "cell_type": "markdown",
   "id": "traditional-stage",
   "metadata": {},
   "source": [
    "Number of tokenized text exceeds (>) maximum acceptable token inputs length, this means that the latter text will be truncated and won't be fed into the T5 summarizer model.\n",
    "\n",
    "To solve the risk of missing out important details in the latter text, let's perform extractive summarization followed by abstractive summarization.\n",
    "\n",
    "Before we proceed, make sure we have pip installed BERT extractive summarizer.\n",
    "\n",
    "```pip install bert-extractive-summarizer```\\\n",
    "```pip install sacremoses```"
   ]
  },
  {
   "cell_type": "code",
   "execution_count": 18,
   "id": "chinese-transcript",
   "metadata": {},
   "outputs": [],
   "source": [
    "# import BERT summarizer module\n",
    "from summarizer import Summarizer"
   ]
  },
  {
   "cell_type": "markdown",
   "id": "junior-amount",
   "metadata": {},
   "source": [
    "Use BERT summarizer to extract only top 50% of sentences that are considered important."
   ]
  },
  {
   "cell_type": "code",
   "execution_count": 19,
   "id": "hollow-optimization",
   "metadata": {},
   "outputs": [
    {
     "data": {
      "application/vnd.jupyter.widget-view+json": {
       "model_id": "5a08ffcbd4b04be3ad6df1451267c3e5",
       "version_major": 2,
       "version_minor": 0
      },
      "text/plain": [
       "Downloading:   0%|          | 0.00/571 [00:00<?, ?B/s]"
      ]
     },
     "metadata": {},
     "output_type": "display_data"
    },
    {
     "data": {
      "application/vnd.jupyter.widget-view+json": {
       "model_id": "b55a379216f04fca8175f13abd67bfd9",
       "version_major": 2,
       "version_minor": 0
      },
      "text/plain": [
       "Downloading:   0%|          | 0.00/1.25G [00:00<?, ?B/s]"
      ]
     },
     "metadata": {},
     "output_type": "display_data"
    },
    {
     "name": "stderr",
     "output_type": "stream",
     "text": [
      "Some weights of the model checkpoint at bert-large-uncased were not used when initializing BertModel: ['cls.predictions.transform.dense.weight', 'cls.seq_relationship.bias', 'cls.seq_relationship.weight', 'cls.predictions.transform.dense.bias', 'cls.predictions.decoder.weight', 'cls.predictions.transform.LayerNorm.weight', 'cls.predictions.bias', 'cls.predictions.transform.LayerNorm.bias']\n",
      "- This IS expected if you are initializing BertModel from the checkpoint of a model trained on another task or with another architecture (e.g. initializing a BertForSequenceClassification model from a BertForPreTraining model).\n",
      "- This IS NOT expected if you are initializing BertModel from the checkpoint of a model that you expect to be exactly identical (initializing a BertForSequenceClassification model from a BertForSequenceClassification model).\n"
     ]
    },
    {
     "data": {
      "application/vnd.jupyter.widget-view+json": {
       "model_id": "e55b82d23f5941f390041f9458f4579f",
       "version_major": 2,
       "version_minor": 0
      },
      "text/plain": [
       "Downloading:   0%|          | 0.00/226k [00:00<?, ?B/s]"
      ]
     },
     "metadata": {},
     "output_type": "display_data"
    },
    {
     "data": {
      "application/vnd.jupyter.widget-view+json": {
       "model_id": "669d3096c5004982a8430f4f03a0ed27",
       "version_major": 2,
       "version_minor": 0
      },
      "text/plain": [
       "Downloading:   0%|          | 0.00/28.0 [00:00<?, ?B/s]"
      ]
     },
     "metadata": {},
     "output_type": "display_data"
    }
   ],
   "source": [
    "bert_model = Summarizer()\n",
    "ext_summary = bert_model(text, ratio=0.5)"
   ]
  },
  {
   "cell_type": "code",
   "execution_count": 20,
   "id": "rational-defendant",
   "metadata": {},
   "outputs": [
    {
     "name": "stdout",
     "output_type": "stream",
     "text": [
      "New York (CNN Business)Netflix is synonymous with streaming, but its competitors have a distinct advantage that threatens the streaming leader's position at the top. Disney has Disney+, but it also has theme parks, plush Baby Yoda dolls, blockbuster Marvel movies and ESPN. It's worked out well for the company - so far. Or put another way, the company's lackluster user growth last quarter is a signal that it wouldn't hurt if Netflix - a company that's lived and died with its subscriber numbers - started thinking about other ways to make money. Not so fast\n",
      "There are ways for Netflix to make money other than raising prices or adding subscribers. Netflix could have 30-second commercials on their programming or get sponsors for their biggest series and films. His reasoning: It doesn't make business sense. You know, advertising looks easy until you get in it. Then you realize you have to rip that revenue away from other places because the total ad market isn't growing, and in fact right now it's shrinking. So if Netflix is looking for other forms of near-term revenue to help support its hefty content budget ($17 billion in 2021 alone) then what can it do? Netflix could crack down on password sharing - a move that the company has been considering lately. That's going to help them get to a higher level of penetration, definitely, but not in long-term.\" Lackluster growth is still growth\n",
      "Missing projections is never good, but it's hardly the end of the world for Netflix. The company remains the market leader and most competitors are still far from taking the company on. We used to do that thing shipping DVDs, and luckily we didn't get stuck with that. We define entertainment as the main thing,\" Hastings said. He added that he doesn't think Netflix will have a second act in the way Amazon has had with Amazon shopping and Amazon Web Services. Rather, Netflix will continue to improve and grow on what it already does best. \"I'll bet we end with one hopefully gigantic, hopefully defensible profit pool, and continue to improve the service for our members,\" he said. \" I wouldn't look for any large secondary pool of profits. There will be a bunch of supporting pools, like consumer products, that can be both profitable and can support the title brands.\n"
     ]
    }
   ],
   "source": [
    "print(ext_summary)"
   ]
  },
  {
   "cell_type": "markdown",
   "id": "rational-mitchell",
   "metadata": {},
   "source": [
    "## Tokenize BERT Summary"
   ]
  },
  {
   "cell_type": "code",
   "execution_count": 21,
   "id": "modular-coverage",
   "metadata": {},
   "outputs": [],
   "source": [
    "tokens_input_2 = tokenizer.encode(\"summarize: \"+ext_summary, return_tensors='pt', \n",
    "                                max_length=tokenizer.model_max_length, \n",
    "                                truncation=True)"
   ]
  },
  {
   "cell_type": "code",
   "execution_count": 22,
   "id": "latter-formation",
   "metadata": {},
   "outputs": [
    {
     "data": {
      "text/plain": [
       "522"
      ]
     },
     "execution_count": 22,
     "metadata": {},
     "output_type": "execute_result"
    }
   ],
   "source": [
    "len(tokenizer(ext_summary)['input_ids'])"
   ]
  },
  {
   "cell_type": "markdown",
   "id": "renewable-equation",
   "metadata": {},
   "source": [
    "The number of tokenized text is just slightly exceeded the maximum acceptable token inputs length (521 > 512), this is okay because this won't make much different to the summary."
   ]
  },
  {
   "cell_type": "markdown",
   "id": "convertible-webmaster",
   "metadata": {},
   "source": [
    "## Extractive-Abstractive Summary"
   ]
  },
  {
   "cell_type": "code",
   "execution_count": 23,
   "id": "ranking-church",
   "metadata": {},
   "outputs": [],
   "source": [
    "summary_ids_2 = model.generate(tokens_input_2, min_length=80,\n",
    "                             max_length=150,\n",
    "                             length_penalty=20, \n",
    "                             num_beams=2)\n",
    "\n",
    "summary_2 = tokenizer.decode(summary_ids_2[0], skip_special_tokens=True)"
   ]
  },
  {
   "cell_type": "code",
   "execution_count": 24,
   "id": "monetary-darkness",
   "metadata": {},
   "outputs": [
    {
     "name": "stdout",
     "output_type": "stream",
     "text": [
      "Netflix's lackluster user growth last quarter is a signal that it wouldn't hurt if it started thinking about other ways to make money. the company could crack down on password sharing - a move that the company has been considering lately. \"i wouldn't look for any large secondary pool of profits,\" says Hastings. he says he doesn't think Netflix will have a second act in the way Amazon has had with Amazon shopping and Amazon Web Services.\n"
     ]
    }
   ],
   "source": [
    "print(summary_2)"
   ]
  },
  {
   "cell_type": "markdown",
   "id": "856d8926",
   "metadata": {},
   "source": [
    "# Pegasus Summarization\n",
    "https://github.com/nicknochnack/PegasusSummarization/blob/main/Pegasus%20Tutorial.ipynb\n",
    "\n",
    "\n",
    "```pip install torch``` \\\n",
    "```pip install torchvision``` \\\n",
    "```pip install torchaudio``` \\\n",
    "```pip install transformers``` \\"
   ]
  },
  {
   "cell_type": "code",
   "execution_count": 25,
   "id": "1fdb664f",
   "metadata": {},
   "outputs": [
    {
     "data": {
      "application/vnd.jupyter.widget-view+json": {
       "model_id": "d968dc91aa07481ab1051f343d3339e7",
       "version_major": 2,
       "version_minor": 0
      },
      "text/plain": [
       "Downloading:   0%|          | 0.00/1.82M [00:00<?, ?B/s]"
      ]
     },
     "metadata": {},
     "output_type": "display_data"
    },
    {
     "data": {
      "application/vnd.jupyter.widget-view+json": {
       "model_id": "865c5c75c92e42899f5bb7b9f6636a26",
       "version_major": 2,
       "version_minor": 0
      },
      "text/plain": [
       "Downloading:   0%|          | 0.00/65.0 [00:00<?, ?B/s]"
      ]
     },
     "metadata": {},
     "output_type": "display_data"
    },
    {
     "data": {
      "application/vnd.jupyter.widget-view+json": {
       "model_id": "6a4f729de7ea42e89a2f93b39cdebd2a",
       "version_major": 2,
       "version_minor": 0
      },
      "text/plain": [
       "Downloading:   0%|          | 0.00/87.0 [00:00<?, ?B/s]"
      ]
     },
     "metadata": {},
     "output_type": "display_data"
    },
    {
     "data": {
      "application/vnd.jupyter.widget-view+json": {
       "model_id": "1ae7b2de237b448aae6f0c6f9a1ad264",
       "version_major": 2,
       "version_minor": 0
      },
      "text/plain": [
       "Downloading:   0%|          | 0.00/1.36k [00:00<?, ?B/s]"
      ]
     },
     "metadata": {},
     "output_type": "display_data"
    },
    {
     "data": {
      "application/vnd.jupyter.widget-view+json": {
       "model_id": "0cde5c687bc64cd69c1c4b914594e337",
       "version_major": 2,
       "version_minor": 0
      },
      "text/plain": [
       "Downloading:   0%|          | 0.00/2.12G [00:00<?, ?B/s]"
      ]
     },
     "metadata": {},
     "output_type": "display_data"
    },
    {
     "data": {
      "text/plain": [
       "{'input_ids': tensor([[  351,   859,   143, 40155,  1423,   158, 53347,   117, 18563,   122,\n",
       "          5383,   108,   155,   203,  4929,   133,   114,  5057,  1648,   120,\n",
       "         21791,   109,  5383,  1919,   131,   116,   975,   134,   109,   349,\n",
       "           107,  4148,   148,  4148,  1754,   108,   155,   126,   163,   148,\n",
       "          1983,  4871,   108, 14947,  5081, 57654, 16624,   108, 22151,  8760,\n",
       "          2959,   111, 15547,   107, 24826,   143, 12066, 40274,   312,  2107,\n",
       "           143, 89441,   312, 77069, 31908,   143, 58587,  9117,   312, 11869,\n",
       "           131,   116,  2929,   301, 11235, 15295,   111,  1814,   143, 67305,\n",
       "           158,   149,   133,   153,   282,  5383,   318,   108,   314,   108,\n",
       "           155,   157,   163,   133,   176,  1878,   113,  2563,   107,   398,\n",
       "           118,  7697,   143, 49424,  1880,   312,   203,  2563,  1712,   117,\n",
       "           451,  3143,   124,   563,   203, 17525,  1217,   107,   168,   131,\n",
       "           116,   947,   165,   210,   118,   109,   301,   233,   167,   571,\n",
       "           107,   343,   126,   131,   116,  1215,   112,   286,   172,   109,\n",
       "          4138,   113,  5383,   138,   783,   217,   364,   176,   197,   177,\n",
       "          9010,   112,   376,  1222,   107,   139,  5383,   292,  1668,  1842,\n",
       "           126,   239,   148, 31547,   604,  9010,  6826,   108,   244,  1779,\n",
       "           384,   604,  9010,   115,   109,   211,  2349,   113, 34315,   343,\n",
       "           120,   344,  2987,  2772,   111,   109, 13378,   118,   203,   352,\n",
       "          2349,   195,   163,   848,  5404,   107,   485,   140,   114,   461,\n",
       "         53950,   118,  7697,   233,   114,   301,   792,   299,   114,  2926,\n",
       "           232,   113,   874,  1516,   115,   423,   297,   112,   109, 41428,\n",
       "          1528,   200, 11228,   233,   111,  2948,  1411,   131,   116,  4658,\n",
       "           148,   146,   174,   255,   107,   139,   301,   131,   116,  1279,\n",
       "          3876,   130,   249,   130, 21350,   124,  1900,   108,   964,   181,\n",
       "           112,  2686,   180,   109,   533,   113,   109, 69942,   978,   172,\n",
       "           175,  1702,  2138,   112,  1830,  1881,   108,   200,   388,  4253,\n",
       "          5628,   111,   175,   108,   205,  4365,   108,   203,   874, 26848,\n",
       "           107,   198,   359,   119,  1194,   114,  1075,   122,  1126, 72888,\n",
       "           116,  1100,   237,   119,   848,   249,   272,   131,   144,   133,\n",
       "           114,  1561,   874,  1520,  4288,   115,   128,   205,  1184,  2099,\n",
       "           745,  2180, 12579,  2788,   108,   114,   636,  8962,   111,  7862,\n",
       "          1627,   134,   627,  2467,  9530, 51164,  2788,   108,   898, 11869,\n",
       "          1423,   107,   198,   567,   137,   157,   171,   112,   248,   254,\n",
       "           154,  2563,   165,   113,   109,   407,   108,   607,   111,  1454,\n",
       "          5383,  8435,  3801,  1453,   414,   372,   230,   108,   109,   301,\n",
       "           131,   116, 45951,   862,   874,   289,  2349,   117,   114,  3846,\n",
       "           120,   126,  2177,   131,   144,  4005,   175,  7697,   233,   114,\n",
       "           301,   120,   131,   116,  2703,   111,  2342,   122,   203, 17525,\n",
       "          1586,   233,   547,  1234,   160,   176,   771,   112,   193,   408,\n",
       "           107,   983,  4259,   121, 27124,  7697,   152,  1089,   167,   991,\n",
       "           353,   127,   771,   118,  7697,   112,   193,   408,   176,   197,\n",
       "          4673,  1068,   132,  1779,  9010,   107,   139,   205,  3312,   151,\n",
       "          1924,  2429,   107,  7697,   256,   133,  7813, 12723, 20479,   124,\n",
       "           153,  3661,   132,   179,  8116,   118,   153,  1715,   679,   111,\n",
       "          3265,   107,  1180,   148,   947,   120,   230,  3689,   108,   447,\n",
       "           146,  7697,   152,   485,   131,   116,   864,   146,   313,   112,\n",
       "          1391,   108,   634,   120,  2792, 13019, 25066,   148,   174,  7405,\n",
       "           160,   109,  5519,  4068, 12219,   113,   142,  4259,   121, 27124,\n",
       "          7697,   292,   107,  1006, 12490,   151,   168,   591,   131,   144,\n",
       "           193,   260,  1083,   107,   198,   362,   131,   116,   114,  6799,\n",
       "           443,     1]]), 'attention_mask': tensor([[1, 1, 1, 1, 1, 1, 1, 1, 1, 1, 1, 1, 1, 1, 1, 1, 1, 1, 1, 1, 1, 1, 1, 1,\n",
       "         1, 1, 1, 1, 1, 1, 1, 1, 1, 1, 1, 1, 1, 1, 1, 1, 1, 1, 1, 1, 1, 1, 1, 1,\n",
       "         1, 1, 1, 1, 1, 1, 1, 1, 1, 1, 1, 1, 1, 1, 1, 1, 1, 1, 1, 1, 1, 1, 1, 1,\n",
       "         1, 1, 1, 1, 1, 1, 1, 1, 1, 1, 1, 1, 1, 1, 1, 1, 1, 1, 1, 1, 1, 1, 1, 1,\n",
       "         1, 1, 1, 1, 1, 1, 1, 1, 1, 1, 1, 1, 1, 1, 1, 1, 1, 1, 1, 1, 1, 1, 1, 1,\n",
       "         1, 1, 1, 1, 1, 1, 1, 1, 1, 1, 1, 1, 1, 1, 1, 1, 1, 1, 1, 1, 1, 1, 1, 1,\n",
       "         1, 1, 1, 1, 1, 1, 1, 1, 1, 1, 1, 1, 1, 1, 1, 1, 1, 1, 1, 1, 1, 1, 1, 1,\n",
       "         1, 1, 1, 1, 1, 1, 1, 1, 1, 1, 1, 1, 1, 1, 1, 1, 1, 1, 1, 1, 1, 1, 1, 1,\n",
       "         1, 1, 1, 1, 1, 1, 1, 1, 1, 1, 1, 1, 1, 1, 1, 1, 1, 1, 1, 1, 1, 1, 1, 1,\n",
       "         1, 1, 1, 1, 1, 1, 1, 1, 1, 1, 1, 1, 1, 1, 1, 1, 1, 1, 1, 1, 1, 1, 1, 1,\n",
       "         1, 1, 1, 1, 1, 1, 1, 1, 1, 1, 1, 1, 1, 1, 1, 1, 1, 1, 1, 1, 1, 1, 1, 1,\n",
       "         1, 1, 1, 1, 1, 1, 1, 1, 1, 1, 1, 1, 1, 1, 1, 1, 1, 1, 1, 1, 1, 1, 1, 1,\n",
       "         1, 1, 1, 1, 1, 1, 1, 1, 1, 1, 1, 1, 1, 1, 1, 1, 1, 1, 1, 1, 1, 1, 1, 1,\n",
       "         1, 1, 1, 1, 1, 1, 1, 1, 1, 1, 1, 1, 1, 1, 1, 1, 1, 1, 1, 1, 1, 1, 1, 1,\n",
       "         1, 1, 1, 1, 1, 1, 1, 1, 1, 1, 1, 1, 1, 1, 1, 1, 1, 1, 1, 1, 1, 1, 1, 1,\n",
       "         1, 1, 1, 1, 1, 1, 1, 1, 1, 1, 1, 1, 1, 1, 1, 1, 1, 1, 1, 1, 1, 1, 1, 1,\n",
       "         1, 1, 1, 1, 1, 1, 1, 1, 1, 1, 1, 1, 1, 1, 1, 1, 1, 1, 1, 1, 1, 1, 1, 1,\n",
       "         1, 1, 1, 1, 1, 1, 1, 1, 1, 1, 1, 1, 1, 1, 1, 1, 1, 1, 1, 1, 1, 1, 1, 1,\n",
       "         1, 1, 1, 1, 1, 1, 1, 1, 1, 1, 1, 1, 1, 1, 1, 1, 1, 1, 1, 1, 1, 1, 1, 1,\n",
       "         1, 1, 1, 1, 1, 1, 1, 1, 1, 1, 1, 1, 1, 1, 1, 1, 1, 1, 1, 1, 1, 1, 1, 1,\n",
       "         1, 1, 1, 1, 1, 1, 1, 1, 1, 1, 1, 1, 1, 1, 1, 1, 1, 1, 1, 1, 1, 1, 1, 1,\n",
       "         1, 1, 1, 1, 1, 1, 1, 1]])}"
      ]
     },
     "execution_count": 25,
     "metadata": {},
     "output_type": "execute_result"
    }
   ],
   "source": [
    "from transformers import PegasusForConditionalGeneration, PegasusTokenizer\n",
    "\n",
    "tokenizer = PegasusTokenizer.from_pretrained(\"google/pegasus-xsum\")\n",
    "model = PegasusForConditionalGeneration.from_pretrained(\"google/pegasus-xsum\")\n",
    "tokens = tokenizer(text, truncation=True, padding=\"longest\", return_tensors=\"pt\")\n",
    "tokens"
   ]
  },
  {
   "cell_type": "code",
   "execution_count": 26,
   "id": "bd2c6cce",
   "metadata": {},
   "outputs": [],
   "source": [
    "summary = model.generate(**tokens)"
   ]
  },
  {
   "cell_type": "code",
   "execution_count": 27,
   "id": "d5aabb41",
   "metadata": {},
   "outputs": [
    {
     "data": {
      "text/plain": [
       "tensor([   0,  168,  131,  116,  146,  400,  270,  109, 4138,  113, 5383,  107,\n",
       "           1])"
      ]
     },
     "execution_count": 27,
     "metadata": {},
     "output_type": "execute_result"
    }
   ],
   "source": [
    "summary[0]"
   ]
  },
  {
   "cell_type": "code",
   "execution_count": 28,
   "id": "a52d1936",
   "metadata": {},
   "outputs": [
    {
     "data": {
      "text/plain": [
       "\"It's not easy being the king of streaming.\""
      ]
     },
     "execution_count": 28,
     "metadata": {},
     "output_type": "execute_result"
    }
   ],
   "source": [
    "tokenizer.decode(summary[0])"
   ]
  }
 ],
 "metadata": {
  "kernelspec": {
   "display_name": "Python 3 (ipykernel)",
   "language": "python",
   "name": "python3"
  },
  "language_info": {
   "codemirror_mode": {
    "name": "ipython",
    "version": 3
   },
   "file_extension": ".py",
   "mimetype": "text/x-python",
   "name": "python",
   "nbconvert_exporter": "python",
   "pygments_lexer": "ipython3",
   "version": "3.9.7"
  }
 },
 "nbformat": 4,
 "nbformat_minor": 5
}
